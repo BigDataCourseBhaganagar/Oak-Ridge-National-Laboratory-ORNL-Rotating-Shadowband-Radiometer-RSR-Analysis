{
 "cells": [
  {
   "cell_type": "code",
   "execution_count": 5,
   "id": "opponent-garage",
   "metadata": {},
   "outputs": [],
   "source": [
    "# Import Libraries\n",
    "\n",
    "import numpy as np\n",
    "import pandas as pd\n",
    "import matplotlib.pyplot as plt\n",
    "import metpy.calc as mpcalc\n",
    "import metpy.plots as mpplots\n"
   ]
  },
  {
   "cell_type": "code",
   "execution_count": 18,
   "id": "hidden-auction",
   "metadata": {},
   "outputs": [],
   "source": [
    "# Load the data files tp panda\n",
    "\n",
    "file_2008 = pd.read_csv(\"2008_csv.csv\")\n",
    "file_2009 = pd.read_csv(\"2009_csv.csv\")\n",
    "file_2010 = pd.read_csv(\"2010_csv.csv\")\n",
    "file_2011 = pd.read_csv(\"2011_csv.csv\")\n",
    "file_2012 = pd.read_csv(\"2012_csv.csv\")\n",
    "file_2013 = pd.read_csv(\"2013_csv.csv\")\n",
    "file_2014 = pd.read_csv(\"2014_csv.csv\")\n",
    "file_2015 = pd.read_csv(\"2015_csv.csv\")\n",
    "file_2016 = pd.read_csv(\"2016_csv.csv\")\n",
    "file_2017 = pd.read_csv(\"2017_csv.csv\")\n",
    "file_2018 = pd.read_csv(\"2018_csv.csv\")\n"
   ]
  },
  {
   "cell_type": "code",
   "execution_count": 22,
   "id": "amended-defeat",
   "metadata": {},
   "outputs": [
    {
     "data": {
      "text/plain": [
       "(96421, 13)"
      ]
     },
     "execution_count": 22,
     "metadata": {},
     "output_type": "execute_result"
    }
   ],
   "source": [
    "# Join data bases\n",
    "final_file=pd.concat([file_2008,file_2009,file_2010,file_2011,file_2012,file_2013,file_2014,file_2015,file_2016,file_2017,file_2018])\n",
    "final_file.shape"
   ]
  },
  {
   "cell_type": "code",
   "execution_count": null,
   "id": "fifteen-fourth",
   "metadata": {},
   "outputs": [],
   "source": []
  }
 ],
 "metadata": {
  "kernelspec": {
   "display_name": "Python 3",
   "language": "python",
   "name": "python3"
  },
  "language_info": {
   "codemirror_mode": {
    "name": "ipython",
    "version": 3
   },
   "file_extension": ".py",
   "mimetype": "text/x-python",
   "name": "python",
   "nbconvert_exporter": "python",
   "pygments_lexer": "ipython3",
   "version": "3.8.5"
  }
 },
 "nbformat": 4,
 "nbformat_minor": 5
}
